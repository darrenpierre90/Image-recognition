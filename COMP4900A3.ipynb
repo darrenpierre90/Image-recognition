{
  "nbformat": 4,
  "nbformat_minor": 0,
  "metadata": {
    "colab": {
      "name": "COMP4900A3.ipynb",
      "provenance": [],
      "collapsed_sections": [],
      "toc_visible": true,
      "authorship_tag": "ABX9TyPkK1OvzEzcQ6+ZjrO4eKk8",
      "include_colab_link": true
    },
    "kernelspec": {
      "name": "python3",
      "display_name": "Python 3"
    },
    "accelerator": "GPU"
  },
  "cells": [
    {
      "cell_type": "markdown",
      "metadata": {
        "id": "view-in-github",
        "colab_type": "text"
      },
      "source": [
        "<a href=\"https://colab.research.google.com/github/darrenpierre90/Image-recognition/blob/master/COMP4900A3.ipynb\" target=\"_parent\"><img src=\"https://colab.research.google.com/assets/colab-badge.svg\" alt=\"Open In Colab\"/></a>"
      ]
    },
    {
      "cell_type": "markdown",
      "metadata": {
        "id": "b33gPeTMyuFm",
        "colab_type": "text"
      },
      "source": [
        "# Code Setup\n",
        "* importing required libaries needed for the project\n",
        "* loading and transforming our datasets"
      ]
    },
    {
      "cell_type": "code",
      "metadata": {
        "id": "vme8XO_YChGk",
        "colab_type": "code",
        "outputId": "1f33fa38-bda9-4c30-8562-b8593561764b",
        "colab": {
          "base_uri": "https://localhost:8080/",
          "height": 34
        }
      },
      "source": [
        "from google.colab import drive\n",
        "drive.mount('/content/gdrive' )\n",
        "import pickle\n",
        "import matplotlib.pyplot as plt\n",
        "import numpy as np\n",
        "from torchvision import transforms\n",
        "from torch.utils.data import Dataset\n",
        "from torch.utils.data import DataLoader\n",
        "from PIL import Image\n",
        "import torch\n",
        "import pandas as pd\n",
        "from google.colab import files\n"
      ],
      "execution_count": 0,
      "outputs": [
        {
          "output_type": "stream",
          "text": [
            "Drive already mounted at /content/gdrive; to attempt to forcibly remount, call drive.mount(\"/content/gdrive\", force_remount=True).\n"
          ],
          "name": "stdout"
        }
      ]
    },
    {
      "cell_type": "code",
      "metadata": {
        "id": "aLlYu91CS_tR",
        "colab_type": "code",
        "colab": {}
      },
      "source": [
        "ROOT_DIR=\"./gdrive/My Drive/Colab Notebooks/COMP4900A3/Data/\"\n",
        "TRAIN_P=ROOT_DIR+\"Train.pkl\"\n",
        "TRAIN_L=ROOT_DIR+\"TrainLabels.csv\"\n",
        "TEST_P=ROOT_DIR+\"Test.pkl\"\n",
        "Kaggle=ROOT_DIR + \"kaggleSubmission.csv\"\n",
        "# Read a pickle file and disply its samples\n",
        "# Note that image data are stored as unit8 so each element is an integer value between 0 and 255\n",
        "data = pickle.load( open( TRAIN_P, 'rb' ), encoding='bytes')\n",
        "targets = np.genfromtxt(TRAIN_L, delimiter=',')\n"
      ],
      "execution_count": 0,
      "outputs": []
    },
    {
      "cell_type": "code",
      "metadata": {
        "id": "Wm-ov9h0vtHt",
        "colab_type": "code",
        "colab": {}
      },
      "source": [
        "# Transforms are common image transformations. They can be chained together using Compose.\n",
        "# Here we normalize images img=(img-0.5)/0.5\n",
        "img_transform = transforms.Compose([\n",
        "    transforms.ToTensor(),\n",
        "    transforms.Normalize([0.5], [0.5])\n",
        "])"
      ],
      "execution_count": 0,
      "outputs": []
    },
    {
      "cell_type": "code",
      "metadata": {
        "id": "EV18_6wN4Nfo",
        "colab_type": "code",
        "colab": {}
      },
      "source": [
        "# img_file: the pickle file containing the images\n",
        "# label_file: the .csv file containing the labels\n",
        "# transform: We use it for normalizing images (see above)\n",
        "# idx: This is a binary vector that is useful for creating training and validation set.\n",
        "# It return only samples where idx is True\n",
        "class MyDataset(Dataset):\n",
        "    def __init__(self, img_file, label_file, transform=None, idx = None):\n",
        "        self.data = pickle.load( open( img_file, 'rb' ), encoding='bytes')\n",
        "        self.targets = np.genfromtxt(label_file, delimiter=',')\n",
        "        if idx is not None:\n",
        "          self.targets = self.targets[idx]\n",
        "          self.data = self.data[idx]\n",
        "        self.transform = transform\n",
        "\n",
        "    def __len__(self):\n",
        "        return len(self.targets)\n",
        "\n",
        "    def __getitem__(self, index):\n",
        "        img, target = self.data[index], int(self.targets[index])\n",
        "        img = Image.fromarray(img.astype('uint8'), mode='L')\n",
        "\n",
        "        if self.transform is not None:\n",
        "           img = self.transform(img)\n",
        "\n",
        "        return img, target\n",
        "\n",
        "# Data set used for kaggle submission\n",
        "class kaggleDS(Dataset):\n",
        "    def __init__(self, img_file, transform=None,):\n",
        "        self.data = pickle.load( open( img_file, 'rb' ), encoding='bytes')\n",
        "        self.transform=transform\n",
        "      \n",
        "\n",
        "    def __len__(self):\n",
        "        return len(self.data)\n",
        "\n",
        "    def __getitem__(self, index):\n",
        "        img = self.data[index]\n",
        "        img = Image.fromarray(img.astype('uint8'), mode='L')\n",
        "\n",
        "        if self.transform is not None:\n",
        "           img = self.transform(img)\n",
        "\n",
        "        return img\n",
        "\n",
        "dataset = MyDataset(TRAIN_P, TRAIN_L,transform=img_transform, idx=None)\n",
        "batch_size = 256\n",
        "dataloader = DataLoader(dataset, batch_size=batch_size, shuffle=True)\n",
        "\n"
      ],
      "execution_count": 0,
      "outputs": []
    },
    {
      "cell_type": "markdown",
      "metadata": {
        "id": "tX4abGZUAlHM",
        "colab_type": "text"
      },
      "source": [
        "# Project Activities\n",
        "* creating classes for models\n",
        "* model training\n",
        "* model testing\n",
        "* model evaluation\n",
        "*  accuracy and valdation accuracy to check for overfiitng\n",
        "\n",
        "## Questions to explore \n",
        "* Epochs impact on performance\n",
        "* impact on a CNN as we add more convulution layers\n",
        "*  Using Max pooling vs Average poooling \n",
        "* use of Batch Normalization \n",
        "* Batch size has effect on NN\n"
      ]
    },
    {
      "cell_type": "markdown",
      "metadata": {
        "id": "TSmfj49J1vVu",
        "colab_type": "text"
      },
      "source": [
        "# Creating functions to train and test our models\n"
      ]
    },
    {
      "cell_type": "code",
      "metadata": {
        "id": "xc4h_gvUxti5",
        "colab_type": "code",
        "colab": {}
      },
      "source": [
        "\n",
        "def train(model,epoch,optimizer,use_gpu=False):\n",
        "  train_losses = []\n",
        "  train_counter = []\n",
        "  if use_gpu:\n",
        "    model.cuda() # put our model on the gpu\n",
        "  model.train()\n",
        "  \n",
        "  loss_f = torch.nn.CrossEntropyLoss() # Loss function  \n",
        "  for epoch in range(1,epoch+1):\n",
        "    for batch_idx,(data) in enumerate(dataloader):\n",
        "      [data,label]=data\n",
        "      if use_gpu:\n",
        "            data, label = data.cuda(), label.cuda()\n",
        "      model.zero_grad()  # sets gradients to 0 before loss calc. \n",
        "      output = model(data) # model makes predictions\n",
        "      loss = loss_f(output, label)  # calc and grab the loss value\n",
        "      \n",
        "      loss.backward()  # apply this loss backwards thru the network's parameters\n",
        "      optimizer.step()  # attempt to optimize weights to account for loss/gradients\n",
        "    \n",
        "      if batch_idx % 20 == 0:\n",
        "        print('Train Epoch: {} [{}/{} ({:.0f}%)]\\tLoss: {:.6f}'.format(\n",
        "          epoch, batch_idx * len(data), len(dataloader.dataset),\n",
        "          100. * batch_idx / len(dataloader), loss.item()))\n",
        "        train_losses.append(loss.item())\n",
        "        train_counter.append(\n",
        "          (batch_idx*64) + ((epoch-1)*len(dataloader.dataset)))\n",
        "        \n",
        "        \n",
        "  fig = plt.figure()\n",
        "  plt.plot(train_counter, train_losses, color='blue')\n",
        "  plt.legend(['Train Loss'], loc='upper right')\n",
        "  plt.xlabel('number of training examples seen')\n",
        "  plt.ylabel('negative log likelihood loss')\n",
        "  fig.show()"
      ],
      "execution_count": 0,
      "outputs": []
    },
    {
      "cell_type": "code",
      "metadata": {
        "id": "LvoGwY_RVhb5",
        "colab_type": "code",
        "colab": {}
      },
      "source": [
        "\n",
        "def test(model,use_gpu=False):\n",
        "  correct = 0\n",
        "  total = 0\n",
        "  output=[]\n",
        "  model.eval()\n",
        "  if use_gpu:\n",
        "    mode.cuda()\n",
        "  with torch.no_grad():\n",
        "      for data in dataloader:\n",
        "          [data,label]=data\n",
        "          data=data.cuda()\n",
        "          label=label.cuda()\n",
        "          output = model(data)\n",
        "        \n",
        "          for idx, i in enumerate(output):\n",
        "              \n",
        "              if torch.argmax(i) == label[idx]:\n",
        "                  correct += 1\n",
        "              total += 1\n",
        "  accuracy=round(correct/total, 3)\n",
        "  print(\"Accuracy: \",accuracy)\n",
        "  return accuracy\n"
      ],
      "execution_count": 0,
      "outputs": []
    },
    {
      "cell_type": "code",
      "metadata": {
        "id": "41hcA73hf9bG",
        "colab_type": "code",
        "colab": {}
      },
      "source": [
        "\n",
        "\n",
        "# function to test for submission \n",
        "def testKaggle(model):\n",
        "  fileName=\"kaggle submission.csv\"\n",
        "  submissionPD=pd.read_csv(Kaggle,header=0)\n",
        "  output=[]\n",
        "  kaggle_ds= kaggleDS(TEST_P,img_transform)\n",
        "  kaggleDSLoader=DataLoader(kaggle_ds,10)\n",
        "  for data in kaggleDSLoader:\n",
        "    data=data.cuda()\n",
        "    p_labels=model(data)\n",
        "    output.append([torch.argmax(x) for x in p_labels])\n",
        "  output=torch.flatten(torch.IntTensor(output),end_dim=1)\n",
        "  output=torch.reshape(output,(1,10000))\n",
        "\n",
        "  answer=list()\n",
        "\n",
        "  for x in range(len(output[0])):\n",
        "    answer.append(output[0][x].item())\n",
        "  submissionPD.output=answer\n",
        "  submissionPD.to_csv(fileName,index=False)\n",
        "  files.download(fileName)\n",
        "\n",
        "\n"
      ],
      "execution_count": 0,
      "outputs": []
    },
    {
      "cell_type": "code",
      "metadata": {
        "id": "CggDwtutYchC",
        "colab_type": "code",
        "colab": {}
      },
      "source": [
        "\n",
        "# Checking GPU availability\n",
        "use_gpu = torch.cuda.is_available()"
      ],
      "execution_count": 0,
      "outputs": []
    },
    {
      "cell_type": "markdown",
      "metadata": {
        "id": "5rIDL1wIs2Xp",
        "colab_type": "text"
      },
      "source": [
        "# First NN Model \n",
        "* I will be creating a Multi Layer Perceptron NN \n",
        "* This will serve as a baseline model for us as CNN are better than MLP NN\n",
        "* [Pytorch basics](https://www.analyticsvidhya.com/blog/2019/09/introduction-to-pytorch-from-scratch/?utm_source=blog&utm_medium=how-to-master-transfer-learning-using-pytorch)"
      ]
    },
    {
      "cell_type": "code",
      "metadata": {
        "id": "ZUGtffyyuSco",
        "colab_type": "code",
        "colab": {}
      },
      "source": [
        "import torch.nn as nn\n",
        "import torch.nn.functional as F\n",
        "# loss functions check out this link to learn more :https://medium.com/udacity-pytorch-challengers/a-brief-overview-of-loss-functions-in-pytorch-c0ddb78068f7\n",
        "# based on this tutorial : https://www.youtube.com/watch?v=BzcBsTou0C0&list=PLQVvvaa0QuDdeMyHEYc0gxFpYwHY2Qfdh\n",
        "class Net(nn.Module):\n",
        "    def __init__(self, hidden_size):\n",
        "        INPUT_SIZE=64*128\n",
        "        OUTPUTSIZE=10\n",
        "        super(Net, self).__init__()                    # Inherited from the parent class nn.Module\n",
        "        self.fc1 = nn.Linear(INPUT_SIZE, hidden_size)  # nn.Linear multiples input by weights and add a bias\n",
        "        self.fc2 = nn.Linear(hidden_size, hidden_size) \n",
        "        self.fc3 = nn.Linear(hidden_size, OUTPUTSIZE)  \n",
        "       \n",
        "    def forward(self, x):  \n",
        "        x=torch.flatten(x,start_dim=1)      #flatten our image to a vector                      # Forward pass: stacking each layer together\n",
        "        out = F.relu(self.fc1(x))        #activation function uses relu\n",
        "        out = F.relu(self.fc2(out))\n",
        "        out = F.relu(self.fc3(out))\n",
        "        return out "
      ],
      "execution_count": 0,
      "outputs": []
    },
    {
      "cell_type": "markdown",
      "metadata": {
        "id": "jiaFRdFl3nym",
        "colab_type": "text"
      },
      "source": [
        "# Basic Convolutional NN\n",
        "* Larger number of out channels , learn more features of the picture, matter of preference\n",
        "* size of conv layer is affect by in_channel , out_channel and how many channels\n",
        "* kernal_size = N square filter , can be given as a tuple. Common dimensions include 1×1, 3×3, 5×5, and 7×7 which can be passed as (1, 1), (3, 3), (5, 5), or (7, 7) tuples.\n",
        "* Don't change stride or padding , unless have good reasons to do so"
      ]
    },
    {
      "cell_type": "markdown",
      "metadata": {
        "id": "4bMFkrrclnIX",
        "colab_type": "text"
      },
      "source": [
        "# Alex Net \n",
        "* The following model is based on the the following archtechture \n",
        "* Since we are not dealing with the same input dimentsions .\n",
        "* The dimensions are not reflective of the original archtechture but the structure and propeties are inspried by this NN\n",
        "\n",
        "\n",
        "\n",
        "![image.png](data:image/png;base64,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)\n"
      ]
    },
    {
      "cell_type": "code",
      "metadata": {
        "id": "T9zqIdx15w8h",
        "colab_type": "code",
        "colab": {}
      },
      "source": [
        "#Original \n",
        "class Alexnet_Original(nn.Module):\n",
        "  def __init__(self):\n",
        "    super(Alexnet_Original,self).__init__()\n",
        "    self.conv1= nn.Conv2d(in_channels=1,out_channels=96,kernel_size=7,stride=1,padding=1)\n",
        "    self.conv2= nn.Conv2d(96,256,5)\n",
        "    self.conv3= nn.Conv2d(256,384,3)\n",
        "    self.conv4= nn.Conv2d(384,384,3)\n",
        "    self.conv5= nn.Conv2d(384,256,3)\n",
        "    self.pool1=nn.MaxPool2d(2)\n",
        "    self.batch1=nn.BatchNorm2d(96)\n",
        "    self.batch2=nn.BatchNorm2d(256)\n",
        "    \n",
        "    self.drop1=nn.Dropout(0.25)\n",
        "    self.drop2=nn.Dropout(0.20)\n",
        "    self.fc1 = nn.Linear(8448, 800)\n",
        "    self.fc2 = nn.Linear(800, 200)\n",
        "    self.fc3 = nn.Linear(200, 10)\n",
        "    \n",
        "\n",
        "  def forward(self, X):\n",
        "    X = F.relu(self.pool1(self.batch1(self.conv1(X))))\n",
        "    X = F.relu(self.pool1(self.batch2((self.conv2(X)))))\n",
        "    X = F.relu((self.conv3(X))) \n",
        "    X = F.relu((self.conv4(X))) \n",
        "    X = F.relu(self.pool1(self.conv5(X))) \n",
        "    X = X.flatten(1)\n",
        "    X = F.relu((self.fc1(X)))\n",
        "    X = F.relu((self.fc2(X)))\n",
        "    X = self.drop2(self.fc3(X))\n",
        "    return F.softmax(X)   "
      ],
      "execution_count": 0,
      "outputs": []
    },
    {
      "cell_type": "code",
      "metadata": {
        "id": "o_YhuYui9-BR",
        "colab_type": "code",
        "colab": {}
      },
      "source": [
        "# Modified Alexnet\n",
        "class Alexnet_M(nn.Module):\n",
        "  def __init__(self):\n",
        "    super(Alexnet_M,self).__init__()\n",
        "    self.conv1= nn.Conv2d(in_channels=1,out_channels=40,kernel_size=7,stride=1,padding=1)\n",
        "    self.conv2= nn.Conv2d(40,80,5)\n",
        "    self.conv3= nn.Conv2d(80,160,3)\n",
        "    self.conv4= nn.Conv2d(160,320,3)\n",
        "    self.conv5= nn.Conv2d(320,400,3)\n",
        "    self.pool1=nn.MaxPool2d(2)\n",
        "    self.drop1=nn.Dropout(0.25)\n",
        "    self.drop2=nn.Dropout(0.20)\n",
        "    self.fc1 = nn.Linear(13200, 800)\n",
        "    self.fc2 = nn.Linear(800, 200)\n",
        "    self.fc3 = nn.Linear(200, 10)\n",
        "\n",
        "  def forward(self, X):\n",
        "    X = F.relu(self.pool1(self.conv1(X)))\n",
        "    X = F.relu(self.pool1(self.conv2(X))) \n",
        "    X = F.relu((self.conv3(X))) \n",
        "    X = F.relu((self.conv4(X))) \n",
        "    X = F.relu(self.pool1(self.conv5(X))) \n",
        "    X = X.flatten(1)\n",
        "    X = F.relu(self.drop1(self.fc1(X)))\n",
        "    X = F.relu(self.drop2(self.fc2(X)))\n",
        "    X = self.drop2(self.fc3(X))\n",
        "    return F.softmax(X)  "
      ],
      "execution_count": 0,
      "outputs": []
    },
    {
      "cell_type": "code",
      "metadata": {
        "colab_type": "code",
        "id": "E-cAa4_zONcz",
        "colab": {}
      },
      "source": [
        "# Neural net for experimenting with layers and hyperparameters\n",
        "class Temp(nn.Module):\n",
        "  def __init__(self):\n",
        "    super(Temp,self).__init__()\n",
        "    self.conv1= nn.Conv2d(in_channels=1,out_channels=96,kernel_size=7,stride=1,padding=1)\n",
        "    self.conv2= nn.Conv2d(96,256,5)\n",
        "    self.conv3= nn.Conv2d(256,384,3)\n",
        "    self.conv4= nn.Conv2d(384,384,3)\n",
        "    self.conv5= nn.Conv2d(384,256,3)\n",
        "    self.pool1=nn.MaxPool2d(2)\n",
        "    self.batch1=nn.BatchNorm2d(96)\n",
        "    self.batch2=nn.BatchNorm2d(256)\n",
        "    \n",
        "    self.drop1=nn.Dropout(0.25)\n",
        "    self.drop2=nn.Dropout(0.20)\n",
        "    self.fc1 = nn.Linear(8448, 800)\n",
        "    self.fc2 = nn.Linear(800, 200)\n",
        "    self.fc3 = nn.Linear(200, 10)\n",
        "    \n",
        "\n",
        "  def forward(self, X):\n",
        "    X = F.relu(self.pool1(self.batch1(self.conv1(X))))\n",
        "    X = F.relu(self.pool1(self.batch2((self.conv2(X)))))\n",
        "    X = F.relu((self.conv3(X))) \n",
        "    X = F.relu((self.conv4(X))) \n",
        "    X = F.relu(self.pool1(self.conv5(X))) \n",
        "    X = X.flatten(1)\n",
        "    X = F.relu((self.fc1(X)))\n",
        "    X = F.relu((self.fc2(X)))\n",
        "    X = self.drop2(self.fc3(X))\n",
        "    return F.softmax(X)   "
      ],
      "execution_count": 0,
      "outputs": []
    },
    {
      "cell_type": "code",
      "metadata": {
        "id": "mzm7ZDW_acr6",
        "colab_type": "code",
        "colab": {}
      },
      "source": [
        "def trainModel():\n",
        "  model=Temp()\n",
        "  optimizer=torch.optim.Adam(model.parameters(),lr=5e-5) #5e-4\n",
        "  train(model,20,optimizer,use_gpu)\n",
        "  test(model)\n"
      ],
      "execution_count": 0,
      "outputs": []
    },
    {
      "cell_type": "code",
      "metadata": {
        "id": "jnrUS6cfjqjs",
        "colab_type": "code",
        "colab": {}
      },
      "source": [
        "def saveModel(model,name=\"bestModel.dict\"):\n",
        "  PATH= ROOT_DIR+name\n",
        "  torch.save(model.state_dict(), PATH)\n",
        "  print(f\"your model has been saved to {PATH}\")\n",
        "\n",
        "\n",
        "def loadModel(ModelClass,name):\n",
        "  PATH=ROOT_DIR + name\n",
        "  model = ModelClass()\n",
        "  model.load_state_dict(torch.load(PATH))\n",
        "  return model\n"
      ],
      "execution_count": 0,
      "outputs": []
    },
    {
      "cell_type": "markdown",
      "metadata": {
        "id": "jL_iIfn6aFGc",
        "colab_type": "text"
      },
      "source": [
        "# Transfer Learning with Pytorch\n",
        "* using a pre-train model as a starting point \n",
        "* Transfer learning only works in deep learning if the model features learned from the first task are general.\n",
        "*  all models are trained using the Imagenet dataset\n",
        "\n",
        "## Transfer Learning scenarios\n",
        "\n",
        "1. Convet as fixed feature extractor:Take a pretrained CNN and remove the last layer and treat the rest of the network as a feature extractor.Then train a linear classifier for the new dataset.\n",
        "\n",
        "2. Fine-tuning the ConvNet:Retrain the whole network and replace the last layer.\n",
        "\n",
        "\n",
        "## Resources\n",
        "* [Models to choose from ](https://pytorch.org/docs/stable/torchvision/models.html#classification)\n",
        "* [Transfer Learning scenarios](http://cs231n.github.io/transfer-learning/)\n",
        "* [Detailed explanation to Transfer Learning](https://medium.com/georgian-impact-blog/transfer-learning-part-1-ed0c174ad6e7)\n",
        "* [A Comprehensive Hands-on Guide to Transfer Learning with Real-World Applications in Deep Learning](https://towardsdatascience.com/a-comprehensive-hands-on-guide-to-transfer-learning-with-real-world-applications-in-deep-learning-212bf3b2f27a)\n",
        "*[Transfer Learning with pytorch](https://www.analyticsvidhya.com/blog/2019/10/how-to-master-transfer-learning-using-pytorch/)\n",
        "\n"
      ]
    },
    {
      "cell_type": "code",
      "metadata": {
        "id": "pzREKGXefDUV",
        "colab_type": "code",
        "colab": {}
      },
      "source": [
        "from PIL import Image\n",
        "\"\"\"\n",
        "This functions is used to transform a PIL image into a rgb image\n",
        "We created this function because we need to format our images into something \n",
        "\"\"\"\n",
        "def rgb(pil):\n",
        "  copy=np.zeros((64,128,3))\n",
        "  a = np.asarray(pil)\n",
        "\n",
        "  for x in range(64):\n",
        "    for y in range(128):\n",
        "      value=a[x][y]\n",
        "      copy[x][y]=[value,value,value]\n",
        "\n",
        "  return  Image.fromarray(copy.astype('uint8'), 'RGB')\n",
        "\n"
      ],
      "execution_count": 0,
      "outputs": []
    },
    {
      "cell_type": "code",
      "metadata": {
        "id": "AmqbvgTo5UxJ",
        "colab_type": "code",
        "colab": {}
      },
      "source": [
        "transform_learning_transform=transforms.Compose([\n",
        "                                                 transforms.Lambda(rgb),\n",
        "                                                 transforms.Resize(224),\n",
        "                                                 transforms.ToTensor(),                              \n",
        "                                                 transforms.Normalize((0.5, 0.5, 0.5), (0.5, 0.5, 0.5)), \n",
        "                                          ])\n"
      ],
      "execution_count": 0,
      "outputs": []
    },
    {
      "cell_type": "code",
      "metadata": {
        "id": "hvD4986MgILL",
        "colab_type": "code",
        "colab": {}
      },
      "source": [
        "import torchvision.models as models\n",
        "alexnet = models.alexnet(True)\n",
        "dataset = MyDataset(TRAIN_P, TRAIN_L,transform=transform_learning_transform, idx=None)\n",
        "batch_size = 32\n",
        "dataloader = DataLoader(dataset, batch_size=batch_size, shuffle=True)\n"
      ],
      "execution_count": 0,
      "outputs": []
    },
    {
      "cell_type": "code",
      "metadata": {
        "id": "UI0P_NWt7uj4",
        "colab_type": "code",
        "colab": {}
      },
      "source": [
        "from collections import OrderedDict\n",
        "classifier = nn.Sequential(OrderedDict([\n",
        "                          ('fc1', nn.Linear(9216, 4096)),\n",
        "                          ('relu', nn.ReLU()),\n",
        "                          ('fc2', nn.Linear(4096, 10)),\n",
        "                          ('output', nn.LogSoftmax(dim=1))\n",
        "                          ]))"
      ],
      "execution_count": 0,
      "outputs": []
    },
    {
      "cell_type": "code",
      "metadata": {
        "id": "mrJk7jWc8dq9",
        "colab_type": "code",
        "colab": {}
      },
      "source": [
        "alexnet.classifier=classifier\n",
        "optimizer=torch.optim.Adam(alexnet.parameters(),lr=5e-5) #5e-4\n",
        "\n",
        "train(alexnet,1,optimizer,use_gpu)"
      ],
      "execution_count": 0,
      "outputs": []
    },
    {
      "cell_type": "code",
      "metadata": {
        "id": "1UU7NiCPuWmM",
        "colab_type": "code",
        "colab": {}
      },
      "source": [
        "test(alexnet)"
      ],
      "execution_count": 0,
      "outputs": []
    },
    {
      "cell_type": "markdown",
      "metadata": {
        "id": "AwoifeHJ8jux",
        "colab_type": "text"
      },
      "source": [
        "# Snapshot Ensembles\n",
        "\n",
        "* Collect multiple models from a single training run.\n",
        "*A limitation of collecting multiple models during a single training run is that the models may be good, but too similar.\n",
        "* This can be addressed by changing the learning algorithm for the deep neural network to force the exploration of different network weights during a single training run that will result, in turn, with models that have differing performance. One way that this can be achieved is by aggressively changing the learning rate used during training.\n",
        "\n",
        "* To avoid this issue , you can change the learning algorithm for your NN to force different parameters duiring a single traiing run . As of result the models will have differing performance . One method of doing this is aggressively changing the learnin rate used during training.\n",
        "\n",
        "* There's multiple ways to aggressively change the learning rate . Among the 2 sources , they used **cosine annealing** .But there's other methods .\n",
        "\n",
        "\n",
        "## References \n",
        "[SNAPSHOT ENSEMBLES: TRAIN 1, GET M FOR FREE](https://arxiv.org/abs/1704.00109)\n",
        "\n",
        "[Snapshot Ensemble Deep Learning Neural Network With Keras](https://machinelearningmastery.com/snapshot-ensemble-deep-learning-neural-network/)"
      ]
    }
  ]
}